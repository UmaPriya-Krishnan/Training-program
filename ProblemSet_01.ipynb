{
 "cells": [
  {
   "cell_type": "code",
   "execution_count": null,
   "metadata": {},
   "outputs": [],
   "source": [
    "#Code to find the largest odd number among the given three integers:\n",
    "\n",
    "#Function to compare the integers and find the largest one\n",
    "def largest(a,b):\n",
    "    if a>b:\n",
    "        return a\n",
    "    return b\n",
    "#Function to find whether an integer is odd or even\n",
    "def odd(a):\n",
    "    return not(a%2 == 0)\n",
    "x = int(input('Enter the 1st integer:'))\n",
    "y = int(input('Enter the 2nd integer:'))\n",
    "z = int(input('Enter the 3rd integer:'))\n",
    "a = odd(x)\n",
    "b = odd(y)\n",
    "c = odd(z)\n",
    "if a and b and not c:\n",
    "    print ('{} is the largest odd integer' .format(largest(x,y)))\n",
    "elif a and not b and c:\n",
    "    print ('{} is the largest odd integer' .format(largest(x,z)))\n",
    "elif not a and b and c:\n",
    "    print ('{} is the largest odd integer' .format(largest(y,z)))\n",
    "elif not a and not b and c:\n",
    "    print ('{} is the largest odd integer' .format(z))\n",
    "elif not a and b and not c:\n",
    "    print ('{} is the largest odd integer' .format(y))\n",
    "elif a and not b and not c:\n",
    "    print ('{} is the largest odd integer' .format(x))\n",
    "elif a and b and c:\n",
    "    print ('{} is the largest odd integer' .format(largest(x,largest(y,z))))\n",
    "else:\n",
    "    print (\"All the entered integers are even.\")\n",
    "\n",
    "#Alternate code:\n",
    "\n",
    "a = int(input('Enter your 1st integer: '))\n",
    "b = int(input('Enter your 2nd integer: '))\n",
    "c = int(input('Enter your 3rd integer: '))\n",
    "for num in (a,b,c):\n",
    " if num%2 ==0:\n",
    "    num = 0  \n",
    " else:\n",
    "    num = num\n",
    "value = a, b, c\n",
    "max = max(value)\n",
    "if max ==0:\n",
    "    print ('All the integers entered are even.')\n",
    "else: \n",
    "    print (max, 'is the largest odd integer.')\n",
    "    "
   ]
  },
  {
   "cell_type": "code",
   "execution_count": null,
   "metadata": {},
   "outputs": [],
   "source": [
    "#To print a string with enough leaading spaces so that the last letter of the string is in column 70 of the display:\n",
    "\n",
    "def right_justify(sent):\n",
    "    print('{0:>70}' .format(sent))\n",
    "sent = str(input('Enter any String:'))\n",
    "right_justify(sent)"
   ]
  },
   {
   "cell_type": "code",
   "execution_count": null,
   "metadata": {},
   "outputs": [],
   "source": [
    "#To find the volume of a sphere:\n",
    "\n",
    "r = 5\n",
    "pi = 22/7\n",
    "vol = (4/3)*pi*(5**3)\n",
    "print('Volume of the sphere is {}' .format(vol))"
   ]
  }
 ],
 "metadata": {
  "kernelspec": {
   "display_name": "Python 3",
   "language": "python",
   "name": "python3"
  },
  "language_info": {
   "codemirror_mode": {
    "name": "ipython",
    "version": 3
   },
   "file_extension": ".py",
   "mimetype": "text/x-python",
   "name": "python",
   "nbconvert_exporter": "python",
   "pygments_lexer": "ipython3",
   "version": "3.7.6"
  }
 },
 "nbformat": 4,
 "nbformat_minor": 4
}

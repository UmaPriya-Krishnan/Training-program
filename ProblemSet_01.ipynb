{
 "cells": [
  {
   "cell_type": "markdown",
   "metadata": {},
   "source": [
    "#Function to compare the integers and find the largest one\n",
    "def largest(a,b):\n",
    "    if a>b:\n",
    "        return a\n",
    "    return b\n",
    "#Function to find whether an integer is odd or even\n",
    "def odd(a):\n",
    "    return not(a%2 == 0)\n",
    "x = int(input('Enter the 1st integer:'))\n",
    "y = int(input('Enter the 2nd integer:'))\n",
    "z = int(input('Enter the 3rd integer:'))\n",
    "a = odd(x)\n",
    "b = odd(y)\n",
    "c = odd(z)\n",
    "if a and b and not c:\n",
    "    print ('{} is the largest odd integer' .format(largest(x,y)))\n",
    "elif a and not b and c:\n",
    "    print ('{} is the largest odd integer' .format(largest(x,z)))\n",
    "elif not a and b and c:\n",
    "    print ('{} is the largest odd integer' .format(largest(y,z)))\n",
    "elif not a and not b and c:\n",
    "    print ('{} is the largest odd integer' .format(z))\n",
    "elif not a and b and not c:\n",
    "    print ('{} is the largest odd integer' .format(y))\n",
    "elif a and not b and not c:\n",
    "    print ('{} is the largest odd integer' .format(x))\n",
    "elif a and b and c:\n",
    "    print ('{} is the largest odd integer' .format(largest(x,largest(y,z))))\n",
    "else:\n",
    "    print (\"All the entered integers are even.\")\n",
    "\n",
    "#Alternate code:\n",
    "\n",
    "a = int(input('Enter your 1st integer: '))\n",
    "b = int(input('Enter your 2nd integer: '))\n",
    "c = int(input('Enter your 3rd integer: '))\n",
    "for num in (a,b,c):\n",
    " if num%2 ==0:\n",
    "    num = 0  \n",
    " else:\n",
    "    num = num\n",
    "value = a, b, c\n",
    "max = max(value)\n",
    "if max ==0:\n",
    "    print ('All the integers entered are even.')\n",
    "else: \n",
    "    print (max, 'is the largest odd integer.')\n",
    "    "
   ]
  },
  {
   "cell_type": "code",
   "execution_count": 2,
   "metadata": {},
   "outputs": [
    {
     "name": "stdout",
     "output_type": "stream",
     "text": [
      "Enter any String:uioret\n",
      "                                                                uioret\n"
     ]
    }
   ],
   "source": [
    "#To print a string with enough leaading spaces so that the last letter of the string is in column 70 of the display:\n",
    "\n",
    "def right_justify(sent):\n",
    "    print('{0:>70}' .format(sent))\n",
    "sent = str(input('Enter any String:'))\n",
    "right_justify(sent)"
   ]
  },
  {
   "cell_type": "code",
   "execution_count": 5,
   "metadata": {},
   "outputs": [
    {
     "ename": "SyntaxError",
     "evalue": "can't assign to function call (<ipython-input-5-9a93fdb1db68>, line 20)",
     "output_type": "error",
     "traceback": [
      "\u001b[1;36m  File \u001b[1;32m\"<ipython-input-5-9a93fdb1db68>\"\u001b[1;36m, line \u001b[1;32m20\u001b[0m\n\u001b[1;33m    int(max) = max(value)\u001b[0m\n\u001b[1;37m                         ^\u001b[0m\n\u001b[1;31mSyntaxError\u001b[0m\u001b[1;31m:\u001b[0m can't assign to function call\n"
     ]
    }
   ],
   "source": [
    "#Largest odd number among 10 user given inputs:\n",
    "a = int(input('Enter your 1st integer: '))\n",
    "b = int(input('Enter your 2nd integer: '))\n",
    "c = int(input('Enter your 3rd integer: '))\n",
    "d = int(input('Enter your 4th integer: '))\n",
    "e = int(input('Enter your 5th integer: '))\n",
    "f = int(input('Enter your 6th integer: '))\n",
    "g = int(input('Enter your 7th integer: '))\n",
    "h = int(input('Enter your 8th integer: '))\n",
    "i = int(input('Enter your 9th integer: '))\n",
    "j = int(input('Enter your 10th integer: '))\n",
    "\n",
    "for num in (a,b,c,d,e,f,g,h,i,j):\n",
    "\n",
    " if num%2 ==0:\n",
    "    num = 0  \n",
    " else:\n",
    "    num = num\n",
    "value = a, b, c, d, e, f, g, h, i, j\n",
    "max = max(value)\n",
    "if max ==0:\n",
    "    print ('All the integers entered, are even.')\n",
    "else: \n",
    "    print (max, 'is the largest odd number.')\n"
   ]
  },
  {
   "cell_type": "code",
   "execution_count": 9,
   "metadata": {},
   "outputs": [
    {
     "name": "stdout",
     "output_type": "stream",
     "text": [
      "Volume of the sphere is 523.8095238095237\n"
     ]
    }
   ],
   "source": [
    "#To find the volume of a sphere:\n",
    "\n",
    "r = 5\n",
    "pi = 22/7\n",
    "vol = (4/3)*pi*(5**3)\n",
    "print('Volume of the sphere is {}' .format(vol))"
   ]
  },
  {
   "cell_type": "code",
   "execution_count": null,
   "metadata": {},
   "outputs": [],
   "source": []
  }
 ],
 "metadata": {
  "kernelspec": {
   "display_name": "Python 3",
   "language": "python",
   "name": "python3"
  },
  "language_info": {
   "codemirror_mode": {
    "name": "ipython",
    "version": 3
   },
   "file_extension": ".py",
   "mimetype": "text/x-python",
   "name": "python",
   "nbconvert_exporter": "python",
   "pygments_lexer": "ipython3",
   "version": "3.7.6"
  }
 },
 "nbformat": 4,
 "nbformat_minor": 4
}
